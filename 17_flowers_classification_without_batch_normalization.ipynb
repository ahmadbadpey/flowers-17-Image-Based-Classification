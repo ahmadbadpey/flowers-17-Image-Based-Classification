{
 "cells": [
  {
   "cell_type": "code",
   "execution_count": 31,
   "id": "f51f97c8",
   "metadata": {},
   "outputs": [],
   "source": [
    "from tensorflow.keras import layers, models\n",
    "import numpy as np\n",
    "import glob\n",
    "import cv2 as cv\n",
    "from sklearn.preprocessing import LabelBinarizer\n",
    "from sklearn.model_selection import train_test_split\n",
    "import matplotlib.pyplot as plt"
   ]
  },
  {
   "cell_type": "code",
   "execution_count": 21,
   "id": "02354372",
   "metadata": {
    "scrolled": true
   },
   "outputs": [
    {
     "name": "stdout",
     "output_type": "stream",
     "text": [
      "[info] : 1000 images are processed...\n",
      "[info] : 1000 images are processed...\n",
      "[info] : 1000 images are processed...\n",
      "[info] : 1000 images are processed...\n",
      "[info] : 1000 images are processed...\n",
      "[info] : 1000 images are processed...\n",
      "[info] : 1000 images are processed...\n",
      "[info] : 1000 images are processed...\n",
      "[info] : 1000 images are processed...\n",
      "[info] : 1000 images are processed...\n",
      "[info] : 1000 images are processed...\n",
      "[info] : 1000 images are processed...\n"
     ]
    }
   ],
   "source": [
    "all_images = []\n",
    "all_labels = []\n",
    "\n",
    "for i , file in enumerate(glob.glob('train\\**\\**')) :\n",
    "    label = file.split('\\\\')[-2]\n",
    "    \n",
    "    img = cv.imread(file)\n",
    "    img = cv.resize(img , (28,28))\n",
    "    img = img / 255.0\n",
    "    \n",
    "    all_images.append(img)\n",
    "    all_labels.append(label)\n",
    "    \n",
    "    if i%100 == 0 : \n",
    "        print('[info] : 1000 images are processed...')\n",
    "        \n",
    "all_images = np.array(all_images)"
   ]
  },
  {
   "cell_type": "code",
   "execution_count": 25,
   "id": "664e156a",
   "metadata": {},
   "outputs": [
    {
     "data": {
      "text/plain": [
       "array([[1, 0, 0, ..., 0, 0, 0],\n",
       "       [1, 0, 0, ..., 0, 0, 0],\n",
       "       [1, 0, 0, ..., 0, 0, 0],\n",
       "       ...,\n",
       "       [0, 0, 0, ..., 0, 0, 1],\n",
       "       [0, 0, 0, ..., 0, 0, 1],\n",
       "       [0, 0, 0, ..., 0, 0, 1]], dtype=int32)"
      ]
     },
     "execution_count": 25,
     "metadata": {},
     "output_type": "execute_result"
    }
   ],
   "source": [
    "LB = LabelBinarizer()\n",
    "all_labels = LB.fit_transform(all_labels)\n",
    "\n",
    "all_labels"
   ]
  },
  {
   "cell_type": "code",
   "execution_count": 28,
   "id": "70121410",
   "metadata": {},
   "outputs": [
    {
     "name": "stdout",
     "output_type": "stream",
     "text": [
      "X_train :  (952, 28, 28, 3)\n",
      "X_test :  (238, 28, 28, 3)\n",
      "y_train :  (952, 17)\n",
      "y_test :  (238, 17)\n"
     ]
    }
   ],
   "source": [
    "X_train , X_test , y_train , y_test = train_test_split(all_images , all_labels , test_size=0.2 ,random_state=120)\n",
    "\n",
    "print(\"X_train : \", X_train.shape)\n",
    "print(\"X_test : \", X_test.shape)\n",
    "print(\"y_train : \", y_train.shape)\n",
    "print(\"y_test : \", y_test.shape)"
   ]
  },
  {
   "cell_type": "code",
   "execution_count": 29,
   "id": "e0c076a1",
   "metadata": {},
   "outputs": [],
   "source": [
    "model = models.Sequential([\n",
    "    layers.Conv2D(16, (3,3) ,activation ='relu' , input_shape=(28, 28, 3)),\n",
    "    layers.MaxPooling2D(2,2),\n",
    "    layers.Conv2D(32, (3,3) ,activation ='relu'),\n",
    "    layers.MaxPooling2D(2,2),\n",
    "    layers.Conv2D(64, (3,3) ,activation ='relu'),\n",
    "    layers.MaxPooling2D(2,2),\n",
    "    layers.Flatten(),\n",
    "    layers.Dense(512,activation ='relu'),\n",
    "    layers.Dense(17,activation ='softmax')\n",
    "])\n",
    "\n",
    "model.compile(optimizer='sgd' ,loss = \"categorical_crossentropy\", metrics =['accuracy'])"
   ]
  },
  {
   "cell_type": "code",
   "execution_count": 30,
   "id": "f7255b5e",
   "metadata": {
    "collapsed": true
   },
   "outputs": [
    {
     "name": "stdout",
     "output_type": "stream",
     "text": [
      "Epoch 1/10\n",
      "30/30 [==============================] - 2s 27ms/step - loss: 2.8351 - accuracy: 0.0557 - val_loss: 2.8298 - val_accuracy: 0.0672\n",
      "Epoch 2/10\n",
      "30/30 [==============================] - 0s 15ms/step - loss: 2.8332 - accuracy: 0.0567 - val_loss: 2.8297 - val_accuracy: 0.0588\n",
      "Epoch 3/10\n",
      "30/30 [==============================] - 0s 14ms/step - loss: 2.8316 - accuracy: 0.0578 - val_loss: 2.8296 - val_accuracy: 0.0672\n",
      "Epoch 4/10\n",
      "30/30 [==============================] - 0s 14ms/step - loss: 2.8302 - accuracy: 0.0693 - val_loss: 2.8294 - val_accuracy: 0.0882\n",
      "Epoch 5/10\n",
      "30/30 [==============================] - 0s 15ms/step - loss: 2.8287 - accuracy: 0.0945 - val_loss: 2.8291 - val_accuracy: 0.1008\n",
      "Epoch 6/10\n",
      "30/30 [==============================] - 0s 14ms/step - loss: 2.8273 - accuracy: 0.0893 - val_loss: 2.8286 - val_accuracy: 0.0924\n",
      "Epoch 7/10\n",
      "30/30 [==============================] - 0s 14ms/step - loss: 2.8260 - accuracy: 0.1050 - val_loss: 2.8280 - val_accuracy: 0.0966\n",
      "Epoch 8/10\n",
      "30/30 [==============================] - 0s 14ms/step - loss: 2.8246 - accuracy: 0.0987 - val_loss: 2.8272 - val_accuracy: 0.1050\n",
      "Epoch 9/10\n",
      "30/30 [==============================] - 0s 14ms/step - loss: 2.8231 - accuracy: 0.1103 - val_loss: 2.8264 - val_accuracy: 0.0798\n",
      "Epoch 10/10\n",
      "30/30 [==============================] - 0s 14ms/step - loss: 2.8214 - accuracy: 0.1082 - val_loss: 2.8253 - val_accuracy: 0.0588\n"
     ]
    }
   ],
   "source": [
    "history = model.fit(X_train ,y_train , validation_data=(X_test,y_test) , epochs=10, batch_size=32)"
   ]
  },
  {
   "cell_type": "code",
   "execution_count": 32,
   "id": "47cb42e5",
   "metadata": {},
   "outputs": [
    {
     "data": {
      "image/png": "[encoded data removed]",
      "text/plain": [
       "<Figure size 640x480 with 1 Axes>"
      ]
     },
     "metadata": {},
     "output_type": "display_data"
    }
   ],
   "source": [
    "plt.plot(history.history['accuracy'] , label='Train Accuracy')\n",
    "plt.plot(history.history['val_accuracy'] , label='Test Accuracy')\n",
    "\n",
    "plt.plot(history.history['loss'] , label='Train loss')\n",
    "plt.plot(history.history['val_loss'] , label='Test loss')\n",
    "\n",
    "plt.xlabel('Epoch')\n",
    "plt.ylabel('Accuracy/Loss')\n",
    "plt.legend()\n",
    "plt.show()"
   ]
  }
 ],
 "metadata": {
  "kernelspec": {
   "display_name": "Python 3 (ipykernel)",
   "language": "python",
   "name": "python3"
  },
  "language_info": {
   "codemirror_mode": {
    "name": "ipython",
    "version": 3
   },
   "file_extension": ".py",
   "mimetype": "text/x-python",
   "name": "python",
   "nbconvert_exporter": "python",
   "pygments_lexer": "ipython3",
   "version": "3.10.7"
  }
 },
 "nbformat": 4,
 "nbformat_minor": 5
}
