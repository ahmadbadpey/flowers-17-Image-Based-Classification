{
 "cells": [
  {
   "cell_type": "code",
   "execution_count": 1,
   "id": "f51f97c8",
   "metadata": {},
   "outputs": [],
   "source": [
    "from tensorflow.keras import layers, models\n",
    "import numpy as np\n",
    "import glob\n",
    "import cv2 as cv\n",
    "from sklearn.preprocessing import LabelBinarizer\n",
    "from sklearn.model_selection import train_test_split\n",
    "import matplotlib.pyplot as plt"
   ]
  },
  {
   "cell_type": "code",
   "execution_count": 2,
   "id": "02354372",
   "metadata": {
    "scrolled": true
   },
   "outputs": [
    {
     "name": "stdout",
     "output_type": "stream",
     "text": [
      "[info] : 1000 images are processed...\n",
      "[info] : 1000 images are processed...\n",
      "[info] : 1000 images are processed...\n",
      "[info] : 1000 images are processed...\n",
      "[info] : 1000 images are processed...\n",
      "[info] : 1000 images are processed...\n",
      "[info] : 1000 images are processed...\n",
      "[info] : 1000 images are processed...\n",
      "[info] : 1000 images are processed...\n",
      "[info] : 1000 images are processed...\n",
      "[info] : 1000 images are processed...\n",
      "[info] : 1000 images are processed...\n"
     ]
    }
   ],
   "source": [
    "all_images = []\n",
    "all_labels = []\n",
    "\n",
    "for i , file in enumerate(glob.glob('train\\**\\**')) :\n",
    "    label = file.split('\\\\')[-2]\n",
    "    \n",
    "    img = cv.imread(file)\n",
    "    img = cv.resize(img , (28,28))\n",
    "    img = img / 255.0\n",
    "    \n",
    "    all_images.append(img)\n",
    "    all_labels.append(label)\n",
    "    \n",
    "    if i%100 == 0 : \n",
    "        print('[info] : 1000 images are processed...')\n",
    "        \n",
    "all_images = np.array(all_images)"
   ]
  },
  {
   "cell_type": "code",
   "execution_count": 3,
   "id": "664e156a",
   "metadata": {},
   "outputs": [
    {
     "data": {
      "text/plain": [
       "array([[1, 0, 0, ..., 0, 0, 0],\n",
       "       [1, 0, 0, ..., 0, 0, 0],\n",
       "       [1, 0, 0, ..., 0, 0, 0],\n",
       "       ...,\n",
       "       [0, 0, 0, ..., 0, 0, 1],\n",
       "       [0, 0, 0, ..., 0, 0, 1],\n",
       "       [0, 0, 0, ..., 0, 0, 1]])"
      ]
     },
     "execution_count": 3,
     "metadata": {},
     "output_type": "execute_result"
    }
   ],
   "source": [
    "LB = LabelBinarizer()\n",
    "all_labels = LB.fit_transform(all_labels)\n",
    "\n",
    "all_labels"
   ]
  },
  {
   "cell_type": "code",
   "execution_count": 4,
   "id": "70121410",
   "metadata": {},
   "outputs": [
    {
     "name": "stdout",
     "output_type": "stream",
     "text": [
      "X_train :  (952, 28, 28, 3)\n",
      "X_test :  (238, 28, 28, 3)\n",
      "y_train :  (952, 17)\n",
      "y_test :  (238, 17)\n"
     ]
    }
   ],
   "source": [
    "X_train , X_test , y_train , y_test = train_test_split(all_images , all_labels , test_size=0.2 ,random_state=120)\n",
    "\n",
    "print(\"X_train : \", X_train.shape)\n",
    "print(\"X_test : \", X_test.shape)\n",
    "print(\"y_train : \", y_train.shape)\n",
    "print(\"y_test : \", y_test.shape)"
   ]
  },
  {
   "cell_type": "code",
   "execution_count": 10,
   "id": "e0c076a1",
   "metadata": {},
   "outputs": [],
   "source": [
    "model = models.Sequential([\n",
    "    layers.Conv2D(16, (3,3) ,activation ='relu' , input_shape=(28, 28, 3)),\n",
    "    layers.BatchNormalization(),\n",
    "    layers.MaxPooling2D(2,2),\n",
    "    layers.Dropout(0.2),\n",
    "    layers.Conv2D(32, (3,3) ,activation ='relu'),\n",
    "    layers.BatchNormalization(),\n",
    "    layers.MaxPooling2D(2,2),\n",
    "    layers.Dropout(0.2),\n",
    "    layers.Conv2D(64, (3,3) ,activation ='relu'),\n",
    "    layers.BatchNormalization(),\n",
    "    layers.MaxPooling2D(2,2),\n",
    "    layers.Dropout(0.2),\n",
    "    layers.Flatten(),\n",
    "    layers.Dense(512,activation ='relu'),\n",
    "    layers.Dense(17,activation ='softmax')\n",
    "])\n",
    "\n",
    "model.compile(optimizer='sgd' ,loss = \"categorical_crossentropy\", metrics =['accuracy'])"
   ]
  },
  {
   "cell_type": "code",
   "execution_count": 11,
   "id": "f7255b5e",
   "metadata": {},
   "outputs": [
    {
     "name": "stdout",
     "output_type": "stream",
     "text": [
      "Epoch 1/10\n",
      "30/30 [==============================] - 2s 30ms/step - loss: 2.8051 - accuracy: 0.0998 - val_loss: 2.8249 - val_accuracy: 0.0840\n",
      "Epoch 2/10\n",
      "30/30 [==============================] - 1s 20ms/step - loss: 2.4095 - accuracy: 0.2300 - val_loss: 2.8123 - val_accuracy: 0.0840\n",
      "Epoch 3/10\n",
      "30/30 [==============================] - 1s 21ms/step - loss: 2.1863 - accuracy: 0.2962 - val_loss: 2.7984 - val_accuracy: 0.0378\n",
      "Epoch 4/10\n",
      "30/30 [==============================] - 1s 21ms/step - loss: 2.0156 - accuracy: 0.3498 - val_loss: 2.7714 - val_accuracy: 0.0714\n",
      "Epoch 5/10\n",
      "30/30 [==============================] - 1s 21ms/step - loss: 1.8703 - accuracy: 0.3845 - val_loss: 2.7285 - val_accuracy: 0.0798\n",
      "Epoch 6/10\n",
      "30/30 [==============================] - 1s 21ms/step - loss: 1.8183 - accuracy: 0.4044 - val_loss: 2.6785 - val_accuracy: 0.1134\n",
      "Epoch 7/10\n",
      "30/30 [==============================] - 1s 21ms/step - loss: 1.7608 - accuracy: 0.4223 - val_loss: 2.6426 - val_accuracy: 0.1050\n",
      "Epoch 8/10\n",
      "30/30 [==============================] - 1s 22ms/step - loss: 1.7047 - accuracy: 0.4233 - val_loss: 2.5801 - val_accuracy: 0.1134\n",
      "Epoch 9/10\n",
      "30/30 [==============================] - 1s 21ms/step - loss: 1.6719 - accuracy: 0.4517 - val_loss: 2.4632 - val_accuracy: 0.1345\n",
      "Epoch 10/10\n",
      "30/30 [==============================] - 1s 21ms/step - loss: 1.5922 - accuracy: 0.4800 - val_loss: 2.3472 - val_accuracy: 0.1429\n"
     ]
    }
   ],
   "source": [
    "history = model.fit(X_train ,y_train , validation_data=(X_test,y_test) , epochs=10, batch_size=32)"
   ]
  },
  {
   "cell_type": "code",
   "execution_count": 12,
   "id": "47cb42e5",
   "metadata": {},
   "outputs": [
    {
     "data": {
      "image/png": "[encoded data removed]",
      "text/plain": [
       "<Figure size 640x480 with 1 Axes>"
      ]
     },
     "metadata": {},
     "output_type": "display_data"
    }
   ],
   "source": [
    "plt.plot(history.history['accuracy'] , label='Train Accuracy')\n",
    "plt.plot(history.history['val_accuracy'] , label='Test Accuracy')\n",
    "\n",
    "plt.plot(history.history['loss'] , label='Train loss')\n",
    "plt.plot(history.history['val_loss'] , label='Test loss')\n",
    "\n",
    "plt.xlabel('Epoch')\n",
    "plt.ylabel('Accuracy/Loss')\n",
    "plt.legend()\n",
    "plt.show()"
   ]
  }
 ],
 "metadata": {
  "kernelspec": {
   "display_name": "Python 3 (ipykernel)",
   "language": "python",
   "name": "python3"
  },
  "language_info": {
   "codemirror_mode": {
    "name": "ipython",
    "version": 3
   },
   "file_extension": ".py",
   "mimetype": "text/x-python",
   "name": "python",
   "nbconvert_exporter": "python",
   "pygments_lexer": "ipython3",
   "version": "3.10.7"
  }
 },
 "nbformat": 4,
 "nbformat_minor": 5
}
